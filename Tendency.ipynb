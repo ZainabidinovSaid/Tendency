{
 "cells": [
  {
   "cell_type": "code",
   "execution_count": 10,
   "id": "516fe511",
   "metadata": {},
   "outputs": [
    {
     "name": "stdout",
     "output_type": "stream",
     "text": [
      "   Duration  Pulse  Maxpulse  Calories\n",
      "0        60    110       130     409.1\n",
      "1        60    117       145     479.0\n",
      "2        60    103       135     340.0\n",
      "3        45    105       175     282.4\n",
      "4        45    117       148     406.0\n"
     ]
    }
   ],
   "source": [
    "import numpy as np\n",
    "import pandas as pd\n",
    "import sys\n",
    "import matplotlib\n",
    "import matplotlib.pyplot as plt\n",
    "\n",
    "df = pd.read_csv('C:/Users/User/Downloads/data1.csv')\n",
    "\n",
    "print(df.head()) "
   ]
  },
  {
   "cell_type": "markdown",
   "id": "bef05ed8",
   "metadata": {},
   "source": [
    "**Percentiles**"
   ]
  },
  {
   "cell_type": "code",
   "execution_count": 4,
   "id": "7a3b20d8",
   "metadata": {},
   "outputs": [
    {
     "name": "stdout",
     "output_type": "stream",
     "text": [
      "120.6\n"
     ]
    }
   ],
   "source": [
    "# Percentiles\n",
    "Maxpulse= df[\"Maxpulse\"]\n",
    "percentile20 = np.percentile(Maxpulse, 20)\n",
    "\n",
    "print(percentile20)"
   ]
  },
  {
   "cell_type": "markdown",
   "id": "4caaa187",
   "metadata": {},
   "source": [
    "The 20% percentile of Max_Pulse is 120,6. This means that 20% of all the training sessions have a Max_Pulse of 120,6 or lower.\n",
    "\n",
    "If we flip the statement, it means that 80% of all of the training sessions have an average pulse of 120.6 beats per minute or higher"
   ]
  },
  {
   "cell_type": "markdown",
   "id": "cdcc98fb",
   "metadata": {},
   "source": [
    "**Standard Deviation**"
   ]
  },
  {
   "cell_type": "code",
   "execution_count": 5,
   "id": "61e5d35b",
   "metadata": {},
   "outputs": [
    {
     "name": "stdout",
     "output_type": "stream",
     "text": [
      "Duration     42.174616\n",
      "Pulse        14.478355\n",
      "Maxpulse     16.401692\n",
      "Calories    265.566544\n",
      "dtype: float64\n"
     ]
    }
   ],
   "source": [
    "std = np.std(df)\n",
    "print(std)"
   ]
  },
  {
   "cell_type": "markdown",
   "id": "095fa2fc",
   "metadata": {},
   "source": [
    "Standard deviation is a number that describes how spread out the observations are. If a standard deviation is low, it means that most numbers are close to average value. A high standard deviation means that values have a wider range"
   ]
  },
  {
   "cell_type": "markdown",
   "id": "af15c393",
   "metadata": {},
   "source": [
    "**Variance**"
   ]
  },
  {
   "cell_type": "code",
   "execution_count": 14,
   "id": "126dd582",
   "metadata": {},
   "outputs": [
    {
     "name": "stdout",
     "output_type": "stream",
     "text": [
      "Duration     1778.698225\n",
      "Pulse         209.622772\n",
      "Maxpulse      269.015511\n",
      "Calories    70525.589051\n",
      "dtype: float64\n"
     ]
    }
   ],
   "source": [
    "var = np.var(df)\n",
    "print(var)"
   ]
  },
  {
   "cell_type": "markdown",
   "id": "f684a97f",
   "metadata": {},
   "source": [
    "Variance is another number that indicates the spread of values.\n",
    "\n",
    "In fact, if you take square root of the variance, you get the standard deviation. And exactly opposite, if you multiply standard deviation by itself, you get variance."
   ]
  },
  {
   "cell_type": "markdown",
   "id": "55acdd4f",
   "metadata": {},
   "source": [
    "**Correlation**"
   ]
  },
  {
   "cell_type": "code",
   "execution_count": 17,
   "id": "f80dc292",
   "metadata": {},
   "outputs": [
    {
     "name": "stdout",
     "output_type": "stream",
     "text": [
      "0.7833337288319593\n"
     ]
    }
   ],
   "source": [
    "matplotlib.use('Agg')\n",
    "correlation = df['Pulse'].corr(df['Maxpulse'])\n",
    "print(correlation)"
   ]
  },
  {
   "cell_type": "markdown",
   "id": "4aaf27d6",
   "metadata": {},
   "source": [
    "A statistical measure that describes the extent to which two variables change together. It ranges from -1 to 1, where 1 indicates a perfect positive correlation, -1 indicates a perfect negative correlation, and 0 indicates no correlation."
   ]
  },
  {
   "cell_type": "markdown",
   "id": "b3a411f1",
   "metadata": {},
   "source": [
    "**Correlation Matrix**"
   ]
  },
  {
   "cell_type": "code",
   "execution_count": 18,
   "id": "9c5696f0",
   "metadata": {},
   "outputs": [
    {
     "name": "stdout",
     "output_type": "stream",
     "text": [
      "          Duration  Pulse  Maxpulse  Calories\n",
      "Duration      1.00  -0.15      0.01      0.92\n",
      "Pulse        -0.15   1.00      0.78      0.02\n",
      "Maxpulse      0.01   0.78      1.00      0.20\n",
      "Calories      0.92   0.02      0.20      1.00\n"
     ]
    }
   ],
   "source": [
    "Corr_Matrix = round(df.corr(),2)\n",
    "print(Corr_Matrix)"
   ]
  },
  {
   "cell_type": "markdown",
   "id": "3a138d7f",
   "metadata": {},
   "source": [
    "A table showing correlation coefficients between variables. It's useful for understanding relationships between multiple variables in a dataset."
   ]
  },
  {
   "cell_type": "markdown",
   "id": "84f11a93",
   "metadata": {},
   "source": [
    "**Correlation vs. Causality**:\n",
    "Correlation does not imply causality. Just because two variables are correlated does not mean that one causes the other. Correlation simply indicates that there is a relationship between the variables."
   ]
  }
 ],
 "metadata": {
  "kernelspec": {
   "display_name": "Python 3 (ipykernel)",
   "language": "python",
   "name": "python3"
  },
  "language_info": {
   "codemirror_mode": {
    "name": "ipython",
    "version": 3
   },
   "file_extension": ".py",
   "mimetype": "text/x-python",
   "name": "python",
   "nbconvert_exporter": "python",
   "pygments_lexer": "ipython3",
   "version": "3.11.5"
  }
 },
 "nbformat": 4,
 "nbformat_minor": 5
}
